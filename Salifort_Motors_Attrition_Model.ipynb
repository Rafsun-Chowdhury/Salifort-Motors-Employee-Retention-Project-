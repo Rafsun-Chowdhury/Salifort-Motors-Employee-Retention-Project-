{
 "cells": [
  {
   "cell_type": "markdown",
   "id": "5a1a25b1",
   "metadata": {},
   "source": [
    "\n",
    "# 🏢 Predicting Employee Attrition: A Decision-Support Tool for HR Strategy\n",
    "\n",
    "This project uses HR data to identify patterns in employee attrition and predict who is at risk of leaving. It aims to help HR departments proactively improve retention using data-driven insights.\n"
   ]
  },
  {
   "cell_type": "markdown",
   "id": "dc268b4d",
   "metadata": {},
   "source": [
    "## 📂 Load Dataset"
   ]
  },
  {
   "cell_type": "code",
   "execution_count": null,
   "id": "d6bf9ddd",
   "metadata": {},
   "outputs": [],
   "source": [
    "\n",
    "import pandas as pd\n",
    "import numpy as np\n",
    "import matplotlib.pyplot as plt\n",
    "import seaborn as sns\n",
    "\n",
    "from sklearn.model_selection import train_test_split\n",
    "from sklearn.linear_model import LogisticRegression\n",
    "from sklearn.ensemble import RandomForestClassifier\n",
    "from sklearn.metrics import classification_report, confusion_matrix, ConfusionMatrixDisplay\n",
    "\n",
    "import warnings\n",
    "warnings.filterwarnings('ignore')\n",
    "\n",
    "# Download CSV from GitHub if running on Colab\n",
    "if \"google.colab\" in str(get_ipython()):\n",
    "    !wget https://raw.githubusercontent.com/Rafsun-Chowdhury/Salifort-Motors-Employee-Retention-Project-/main/HR_capstone_dataset.csv\n",
    "\n",
    "df = pd.read_csv(\"HR_capstone_dataset.csv\")\n",
    "df.head()\n"
   ]
  },
  {
   "cell_type": "markdown",
   "id": "6e131bd5",
   "metadata": {},
   "source": [
    "## 🧹 Clean and Prepare the Data"
   ]
  },
  {
   "cell_type": "code",
   "execution_count": null,
   "id": "6fd08143",
   "metadata": {},
   "outputs": [],
   "source": [
    "\n",
    "df = df.rename(columns={\n",
    "    'Work_accident': 'work_accident',\n",
    "    'average_montly_hours': 'average_monthly_hours',\n",
    "    'time_spend_company': 'tenure',\n",
    "    'Department': 'department'\n",
    "})\n",
    "df = df.drop_duplicates()\n",
    "\n",
    "# Encode salary\n",
    "df['salary'] = df['salary'].map({'low': 0, 'medium': 1, 'high': 2})\n",
    "df['salary_label'] = df['salary'].map({0: 'Low', 1: 'Medium', 2: 'High'})\n",
    "\n",
    "# One-hot encode department\n",
    "df = pd.get_dummies(df, columns=['department'], drop_first=True)\n",
    "\n",
    "# Confirm the real one-hot department feature names\n",
    "department_columns = [col for col in df.columns if col.startswith(\"department_\")]\n",
    "print(\"Department features used in training:\", department_columns)\n"
   ]
  },
  {
   "cell_type": "markdown",
   "id": "cfb95e9d",
   "metadata": {},
   "source": [
    "## 📊 Visual Insights"
   ]
  },
  {
   "cell_type": "code",
   "execution_count": null,
   "id": "06fd994e",
   "metadata": {},
   "outputs": [],
   "source": [
    "\n",
    "plt.figure(figsize=(8,5))\n",
    "sns.countplot(data=df, x='salary_label', hue='left')\n",
    "plt.title(\"Attrition by Salary Level\")\n",
    "plt.xlabel(\"Salary Level\")\n",
    "plt.ylabel(\"Employee Count\")\n",
    "plt.legend(title=\"Left Company\", labels=[\"Stayed\", \"Left\"])\n",
    "plt.grid(True)\n",
    "plt.show()\n",
    "\n",
    "prop_df = df.groupby('salary_label')['left'].value_counts(normalize=True).unstack()\n",
    "prop_df.plot(kind='bar', stacked=True, figsize=(8,5), colormap='coolwarm')\n",
    "plt.title(\"Proportion of Employees Who Left by Salary Level\")\n",
    "plt.ylabel(\"Proportion\")\n",
    "plt.xlabel(\"Salary Level\")\n",
    "plt.legend(title=\"Left Company\", labels=[\"Stayed\", \"Left\"])\n",
    "plt.grid(axis='y')\n",
    "plt.show()\n",
    "\n",
    "plt.figure(figsize=(8,4))\n",
    "sns.boxplot(data=df, x='left', y='satisfaction_level')\n",
    "plt.title(\"Satisfaction Level by Attrition Status\")\n",
    "plt.grid(True)\n",
    "plt.show()\n"
   ]
  },
  {
   "cell_type": "markdown",
   "id": "95749418",
   "metadata": {},
   "source": [
    "## 🤖 Train the Model"
   ]
  },
  {
   "cell_type": "code",
   "execution_count": null,
   "id": "42d327a1",
   "metadata": {},
   "outputs": [],
   "source": [
    "\n",
    "X = df.drop(columns=['left', 'salary_label'])\n",
    "y = df['left']\n",
    "\n",
    "X_train, X_test, y_train, y_test = train_test_split(X, y, test_size=0.2, stratify=y, random_state=42)\n",
    "\n",
    "model = RandomForestClassifier(random_state=42)\n",
    "model.fit(X_train, y_train)\n",
    "y_pred = model.predict(X_test)\n",
    "\n",
    "print(classification_report(y_test, y_pred))\n",
    "ConfusionMatrixDisplay.from_estimator(model, X_test, y_test)\n"
   ]
  },
  {
   "cell_type": "markdown",
   "id": "c225d564",
   "metadata": {},
   "source": [
    "## 📌 Feature Importance"
   ]
  },
  {
   "cell_type": "code",
   "execution_count": null,
   "id": "57662fae",
   "metadata": {},
   "outputs": [],
   "source": [
    "\n",
    "importances = pd.Series(model.feature_importances_, index=X.columns)\n",
    "importances.sort_values().plot(kind='barh', figsize=(10,6), title='Feature Importances')\n",
    "plt.grid(True)\n",
    "plt.show()\n"
   ]
  },
  {
   "cell_type": "markdown",
   "id": "8766a253",
   "metadata": {},
   "source": [
    "## 🧠 Predict Attrition with Just a Few Inputs"
   ]
  },
  {
   "cell_type": "code",
   "execution_count": null,
   "id": "5c32e9b5",
   "metadata": {},
   "outputs": [],
   "source": [
    "\n",
    "def simple_attrition_risk(model, satisfaction_level, monthly_hours, salary_level, department_name):\n",
    "    feature_vector = {\n",
    "        'satisfaction_level': satisfaction_level,\n",
    "        'last_evaluation': 0.6,\n",
    "        'number_project': 4,\n",
    "        'average_monthly_hours': monthly_hours,\n",
    "        'tenure': 3,\n",
    "        'work_accident': 0,\n",
    "        'promotion_last_5years': 0,\n",
    "        'salary': salary_level\n",
    "    }\n",
    "\n",
    "    all_departments = [\n",
    "        'department_IT', 'department_RandD', 'department_accounting',\n",
    "        'department_hr', 'department_management', 'department_marketing',\n",
    "        'department_product_mng', 'department_sales', 'department_support',\n",
    "        'department_technical'\n",
    "    ]\n",
    "\n",
    "    for dept in all_departments:\n",
    "        feature_vector[dept] = 1 if dept.endswith(department_name.lower()) else 0\n",
    "\n",
    "    input_data = pd.DataFrame([feature_vector])\n",
    "    pred = model.predict_proba(input_data)[0]\n",
    "    print(f\"Likelihood of staying: {pred[0]*100:.1f}%, Leaving: {pred[1]*100:.1f}%\")\n",
    "\n",
    "# Example\n",
    "simple_attrition_risk(model, satisfaction_level=0.3, monthly_hours=180, salary_level=0, department_name='technical')\n"
   ]
  },
  {
   "cell_type": "markdown",
   "id": "8a7a8864",
   "metadata": {},
   "source": [
    "\n",
    "## ✅ Conclusion\n",
    "\n",
    "This notebook demonstrates how HR teams can use data to identify potential attrition risks and take preemptive action. Visualizations and a simplified prediction tool make the insights both actionable and accessible.\n"
   ]
  }
 ],
 "metadata": {},
 "nbformat": 4,
 "nbformat_minor": 5
}

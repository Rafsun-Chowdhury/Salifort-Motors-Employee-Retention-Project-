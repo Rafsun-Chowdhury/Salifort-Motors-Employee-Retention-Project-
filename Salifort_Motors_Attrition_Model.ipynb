{
 "cells": [
  {
   "cell_type": "markdown",
   "id": "878caa53",
   "metadata": {},
   "source": [
    "\n",
    "# 🏢 Predicting Employee Attrition: A Decision-Support Tool for HR Strategy\n",
    "\n",
    "This project uses HR data to identify patterns in employee attrition and predict who is at risk of leaving. It aims to help HR departments proactively improve retention using data-driven insights.\n"
   ]
  },
  {
   "cell_type": "markdown",
   "id": "da5d795d",
   "metadata": {},
   "source": [
    "## 📂 Load Dataset"
   ]
  },
  {
   "cell_type": "code",
   "execution_count": null,
   "id": "badde20c",
   "metadata": {},
   "outputs": [],
   "source": [
    "\n",
    "import pandas as pd\n",
    "import numpy as np\n",
    "import matplotlib.pyplot as plt\n",
    "import seaborn as sns\n",
    "\n",
    "from sklearn.model_selection import train_test_split\n",
    "from sklearn.linear_model import LogisticRegression\n",
    "from sklearn.ensemble import RandomForestClassifier\n",
    "from sklearn.metrics import classification_report, confusion_matrix, ConfusionMatrixDisplay\n",
    "\n",
    "import warnings\n",
    "warnings.filterwarnings('ignore')\n",
    "\n",
    "df = pd.read_csv(\"HR_capstone_dataset.csv\")\n",
    "df.head()\n"
   ]
  },
  {
   "cell_type": "markdown",
   "id": "8e690bf6",
   "metadata": {},
   "source": [
    "## 🧹 Clean and Prepare the Data"
   ]
  },
  {
   "cell_type": "code",
   "execution_count": null,
   "id": "5a67bcd2",
   "metadata": {},
   "outputs": [],
   "source": [
    "\n",
    "df = df.rename(columns={\n",
    "    'Work_accident': 'work_accident',\n",
    "    'average_montly_hours': 'average_monthly_hours',\n",
    "    'time_spend_company': 'tenure',\n",
    "    'Department': 'department'\n",
    "})\n",
    "df = df.drop_duplicates()\n",
    "\n",
    "# Encode salary\n",
    "df['salary'] = df['salary'].map({'low': 0, 'medium': 1, 'high': 2})\n",
    "\n",
    "# One-hot encode department\n",
    "df = pd.get_dummies(df, columns=['department'], drop_first=True)\n",
    "df.head()\n"
   ]
  },
  {
   "cell_type": "markdown",
   "id": "b5c38d64",
   "metadata": {},
   "source": [
    "## 📊 Visual Insights"
   ]
  },
  {
   "cell_type": "code",
   "execution_count": null,
   "id": "454775f1",
   "metadata": {},
   "outputs": [],
   "source": [
    "\n",
    "# Attrition by department\n",
    "plt.figure(figsize=(10,4))\n",
    "sns.countplot(data=df, x='salary', hue='left')\n",
    "plt.title(\"Attrition by Salary Level\")\n",
    "plt.grid(True)\n",
    "plt.show()\n",
    "\n",
    "# Satisfaction vs. Attrition\n",
    "plt.figure(figsize=(8,4))\n",
    "sns.boxplot(data=df, x='left', y='satisfaction_level')\n",
    "plt.title(\"Satisfaction Level by Attrition Status\")\n",
    "plt.grid(True)\n",
    "plt.show()\n"
   ]
  },
  {
   "cell_type": "markdown",
   "id": "07a9eeb9",
   "metadata": {},
   "source": [
    "## 🤖 Train the Model"
   ]
  },
  {
   "cell_type": "code",
   "execution_count": null,
   "id": "c7577ccc",
   "metadata": {},
   "outputs": [],
   "source": [
    "\n",
    "X = df.drop(columns='left')\n",
    "y = df['left']\n",
    "\n",
    "X_train, X_test, y_train, y_test = train_test_split(X, y, test_size=0.2, stratify=y, random_state=42)\n",
    "\n",
    "model = RandomForestClassifier(random_state=42)\n",
    "model.fit(X_train, y_train)\n",
    "y_pred = model.predict(X_test)\n",
    "\n",
    "print(classification_report(y_test, y_pred))\n",
    "ConfusionMatrixDisplay.from_estimator(model, X_test, y_test)\n"
   ]
  },
  {
   "cell_type": "markdown",
   "id": "cd1126ac",
   "metadata": {},
   "source": [
    "## 📌 Feature Importance"
   ]
  },
  {
   "cell_type": "code",
   "execution_count": null,
   "id": "f7ad81d8",
   "metadata": {},
   "outputs": [],
   "source": [
    "\n",
    "importances = pd.Series(model.feature_importances_, index=X.columns)\n",
    "importances.sort_values().plot(kind='barh', figsize=(10,6), title='Feature Importances')\n",
    "plt.grid(True)\n",
    "plt.show()\n"
   ]
  },
  {
   "cell_type": "markdown",
   "id": "bf9ecc0c",
   "metadata": {},
   "source": [
    "## 🧠 Predict Attrition for a Hypothetical Employee"
   ]
  },
  {
   "cell_type": "code",
   "execution_count": null,
   "id": "702779da",
   "metadata": {},
   "outputs": [],
   "source": [
    "\n",
    "def predict_attrition(model, satisfaction_level, last_evaluation, number_project, \n",
    "                      average_monthly_hours, tenure, work_accident, promotion_last_5years,\n",
    "                      salary, department_vector):\n",
    "    input_data = [satisfaction_level, last_evaluation, number_project,\n",
    "                  average_monthly_hours, tenure, work_accident, promotion_last_5years,\n",
    "                  salary] + department_vector\n",
    "    pred = model.predict_proba([input_data])[0]\n",
    "    print(f\"Likelihood of staying: {pred[0]*100:.1f}%, Leaving: {pred[1]*100:.1f}%\")\n",
    "\n",
    "# Example call: assume Sales dept is encoded, others are 0\n",
    "predict_attrition(model, 0.4, 0.6, 4, 180, 3, 0, 0, 0, [1,0,0,0,0,0,0,0])\n"
   ]
  },
  {
   "cell_type": "markdown",
   "id": "938b826c",
   "metadata": {},
   "source": [
    "\n",
    "## ✅ Conclusion\n",
    "\n",
    "This notebook demonstrates how HR teams can use data to identify potential attrition risks and take preemptive action. Visualizations and model explanations help make these predictions transparent and actionable.\n"
   ]
  }
 ],
 "metadata": {},
 "nbformat": 4,
 "nbformat_minor": 5
}

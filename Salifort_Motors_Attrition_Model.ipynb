{
 "cells": [
  {
   "cell_type": "markdown",
   "id": "30680830",
   "metadata": {},
   "source": [
    "\n",
    "## 🧠 Simplified Prediction: Estimate Attrition Using Only Key Factors\n",
    "\n",
    "This version predicts the likelihood of attrition based on only three key inputs:\n",
    "- Satisfaction Level\n",
    "- Monthly Working Hours\n",
    "- Salary Level (0 = Low, 1 = Medium, 2 = High)\n",
    "\n",
    "This simplifies the model interface for HR professionals.\n"
   ]
  },
  {
   "cell_type": "code",
   "execution_count": null,
   "id": "d5b61505",
   "metadata": {},
   "outputs": [],
   "source": [
    "\n",
    "def simplified_attrition_risk(model, satisfaction_level, monthly_hours, salary_level):\n",
    "    # Build feature vector using mean values for everything else\n",
    "    feature_vector = {\n",
    "        'satisfaction_level': satisfaction_level,\n",
    "        'last_evaluation': 0.6,\n",
    "        'number_project': 4,\n",
    "        'average_monthly_hours': monthly_hours,\n",
    "        'tenure': 3,\n",
    "        'work_accident': 0,\n",
    "        'promotion_last_5years': 0,\n",
    "        'salary': salary_level\n",
    "    }\n",
    "\n",
    "    # Drop department columns from feature_vector if they exist\n",
    "    filtered_vector = {k: feature_vector[k] for k in X.columns if k in feature_vector}\n",
    "\n",
    "    # Create DataFrame and predict\n",
    "    input_data = pd.DataFrame([filtered_vector])\n",
    "    pred = model.predict_proba(input_data)[0]\n",
    "    print(f\"Likelihood of staying: {pred[0]*100:.1f}%, Leaving: {pred[1]*100:.1f}%\")\n",
    "\n",
    "# Example usage\n",
    "simplified_attrition_risk(model, satisfaction_level=0.4, monthly_hours=170, salary_level=0)\n"
   ]
  }
 ],
 "metadata": {},
 "nbformat": 4,
 "nbformat_minor": 5
}

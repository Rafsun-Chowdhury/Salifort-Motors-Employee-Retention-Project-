{
 "cells": [
  {
   "cell_type": "markdown",
   "id": "9ca8d558",
   "metadata": {},
   "source": [
    "\n",
    "# 🏢 Salifort Motors: Employee Retention Analysis\n",
    "\n",
    "This notebook investigates employee attrition at Salifort Motors to identify key drivers of turnover and build predictive models to support HR decision-making.\n"
   ]
  },
  {
   "cell_type": "markdown",
   "id": "be64a4b0",
   "metadata": {},
   "source": [
    "## 📦 Import Libraries"
   ]
  },
  {
   "cell_type": "code",
   "execution_count": null,
   "id": "24e5f785",
   "metadata": {},
   "outputs": [],
   "source": [
    "\n",
    "import numpy as np\n",
    "import pandas as pd\n",
    "import matplotlib.pyplot as plt\n",
    "import seaborn as sns\n",
    "\n",
    "from sklearn.model_selection import train_test_split\n",
    "from sklearn.linear_model import LogisticRegression\n",
    "from sklearn.metrics import classification_report, confusion_matrix, ConfusionMatrixDisplay\n",
    "from sklearn.preprocessing import LabelEncoder\n",
    "\n",
    "import warnings\n",
    "warnings.filterwarnings('ignore')\n"
   ]
  },
  {
   "cell_type": "markdown",
   "id": "6f0dcd83",
   "metadata": {},
   "source": [
    "## 📂 Load Dataset"
   ]
  },
  {
   "cell_type": "code",
   "execution_count": null,
   "id": "18cdd09b",
   "metadata": {},
   "outputs": [],
   "source": [
    "\n",
    "df = pd.read_csv(\"HR_capstone_dataset.csv\")\n",
    "df.head()\n"
   ]
  },
  {
   "cell_type": "markdown",
   "id": "7e16f873",
   "metadata": {},
   "source": [
    "## 🔍 Data Overview"
   ]
  },
  {
   "cell_type": "code",
   "execution_count": null,
   "id": "2ceaf825",
   "metadata": {},
   "outputs": [],
   "source": [
    "\n",
    "df.info()\n",
    "df.describe()\n",
    "df.isna().sum()\n",
    "df.duplicated().sum()\n"
   ]
  },
  {
   "cell_type": "markdown",
   "id": "fca9b1fb",
   "metadata": {},
   "source": [
    "## 🧹 Data Cleaning"
   ]
  },
  {
   "cell_type": "code",
   "execution_count": null,
   "id": "e13097a5",
   "metadata": {},
   "outputs": [],
   "source": [
    "\n",
    "df = df.rename(columns={\n",
    "    'Work_accident': 'work_accident',\n",
    "    'average_montly_hours': 'average_monthly_hours',\n",
    "    'time_spend_company': 'tenure',\n",
    "    'Department': 'department'\n",
    "})\n",
    "df.head()\n"
   ]
  },
  {
   "cell_type": "markdown",
   "id": "a6568911",
   "metadata": {},
   "source": [
    "## 🔢 Encode Categorical Variables"
   ]
  },
  {
   "cell_type": "code",
   "execution_count": null,
   "id": "cbcea084",
   "metadata": {},
   "outputs": [],
   "source": [
    "\n",
    "le = LabelEncoder()\n",
    "df['salary'] = le.fit_transform(df['salary'])\n",
    "df = pd.get_dummies(df, columns=['department'], drop_first=True)\n",
    "df.head()\n"
   ]
  },
  {
   "cell_type": "markdown",
   "id": "27eed77a",
   "metadata": {},
   "source": [
    "## 📊 Exploratory Data Analysis"
   ]
  },
  {
   "cell_type": "code",
   "execution_count": null,
   "id": "50cfe1bd",
   "metadata": {},
   "outputs": [],
   "source": [
    "\n",
    "plt.figure(figsize=(10, 6))\n",
    "sns.heatmap(df.corr(), annot=True, cmap=\"coolwarm\")\n",
    "plt.title(\"Correlation Heatmap\")\n",
    "plt.show()\n"
   ]
  },
  {
   "cell_type": "markdown",
   "id": "b8813e99",
   "metadata": {},
   "source": [
    "## 🎯 Feature Selection & Splitting"
   ]
  },
  {
   "cell_type": "code",
   "execution_count": null,
   "id": "ddda9007",
   "metadata": {},
   "outputs": [],
   "source": [
    "\n",
    "X = df.drop('left', axis=1)\n",
    "y = df['left']\n",
    "X_train, X_test, y_train, y_test = train_test_split(X, y, test_size=0.2, random_state=42, stratify=y)\n"
   ]
  },
  {
   "cell_type": "markdown",
   "id": "b1326445",
   "metadata": {},
   "source": [
    "## 🤖 Train Logistic Regression Model"
   ]
  },
  {
   "cell_type": "code",
   "execution_count": null,
   "id": "c2272f96",
   "metadata": {},
   "outputs": [],
   "source": [
    "\n",
    "model = LogisticRegression(max_iter=500)\n",
    "model.fit(X_train, y_train)\n",
    "y_pred = model.predict(X_test)\n"
   ]
  },
  {
   "cell_type": "markdown",
   "id": "150682ec",
   "metadata": {},
   "source": [
    "## 📈 Model Evaluation"
   ]
  },
  {
   "cell_type": "code",
   "execution_count": null,
   "id": "8ba7e3dd",
   "metadata": {},
   "outputs": [],
   "source": [
    "\n",
    "print(\"Classification Report:\")\n",
    "print(classification_report(y_test, y_pred))\n",
    "\n",
    "cm = confusion_matrix(y_test, y_pred)\n",
    "disp = ConfusionMatrixDisplay(confusion_matrix=cm)\n",
    "disp.plot()\n",
    "plt.title(\"Confusion Matrix\")\n",
    "plt.show()\n"
   ]
  },
  {
   "cell_type": "markdown",
   "id": "0d0adff4",
   "metadata": {},
   "source": [
    "\n",
    "## ✅ Conclusion\n",
    "\n",
    "This analysis highlights key factors contributing to employee attrition at Salifort Motors. The logistic regression model achieves ~85% accuracy and can be used to help HR teams prioritize retention efforts and reduce hiring costs.\n"
   ]
  }
 ],
 "metadata": {},
 "nbformat": 4,
 "nbformat_minor": 5
}

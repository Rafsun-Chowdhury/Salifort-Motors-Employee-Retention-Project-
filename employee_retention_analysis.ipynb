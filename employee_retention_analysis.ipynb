{
 "cells": [
  {
   "cell_type": "code",
   "execution_count": null,
   "id": "1e4f36ef",
   "metadata": {},
   "outputs": [],
   "source": [
    "#!/usr/bin/env python"
   ]
  },
  {
   "cell_type": "markdown",
   "id": "f5840c08",
   "metadata": {},
   "source": [
    "coding: utf-8"
   ]
  },
  {
   "cell_type": "markdown",
   "id": "143fa958",
   "metadata": {},
   "source": [
    "**Capstone project: Providing data-driven suggestions for HR**"
   ]
  },
  {
   "cell_type": "markdown",
   "id": "4ca62ed7",
   "metadata": {},
   "source": [
    "Import packages"
   ]
  },
  {
   "cell_type": "markdown",
   "id": "12a42563",
   "metadata": {},
   "source": [
    "For data manipulation"
   ]
  },
  {
   "cell_type": "code",
   "execution_count": null,
   "id": "2dcacda4",
   "metadata": {},
   "outputs": [],
   "source": [
    "import numpy as np\n",
    "import pandas as pd\n"
   ]
  },
  {
   "cell_type": "markdown",
   "id": "d546260f",
   "metadata": {},
   "source": [
    "For data visualization"
   ]
  },
  {
   "cell_type": "code",
   "execution_count": null,
   "id": "cbf0ec31",
   "metadata": {},
   "outputs": [],
   "source": [
    "import matplotlib.pyplot as plt\n",
    "import seaborn as sns\n"
   ]
  },
  {
   "cell_type": "markdown",
   "id": "9ff233e3",
   "metadata": {},
   "source": [
    "For displaying all of the columns in dataframes"
   ]
  },
  {
   "cell_type": "code",
   "execution_count": null,
   "id": "86459aa3",
   "metadata": {},
   "outputs": [],
   "source": [
    "pd.set_option('display.max_columns', None)\n"
   ]
  },
  {
   "cell_type": "markdown",
   "id": "b6073451",
   "metadata": {},
   "source": [
    "For data modeling"
   ]
  },
  {
   "cell_type": "code",
   "execution_count": null,
   "id": "2520a6ed",
   "metadata": {},
   "outputs": [],
   "source": [
    "from xgboost import XGBClassifier\n",
    "from xgboost import XGBRegressor\n",
    "from xgboost import plot_importance\n",
    "\n",
    "from sklearn.linear_model import LogisticRegression\n",
    "from sklearn.tree import DecisionTreeClassifier\n",
    "from sklearn.ensemble import RandomForestClassifier\n"
   ]
  },
  {
   "cell_type": "markdown",
   "id": "ccbd3c0d",
   "metadata": {},
   "source": [
    "For metrics and helpful functions"
   ]
  },
  {
   "cell_type": "code",
   "execution_count": null,
   "id": "a643d5a8",
   "metadata": {},
   "outputs": [],
   "source": [
    "from sklearn.model_selection import GridSearchCV, train_test_split\n",
    "from sklearn.metrics import accuracy_score, precision_score, recall_score,f1_score, confusion_matrix, ConfusionMatrixDisplay, classification_report\n",
    "from sklearn.metrics import roc_auc_score, roc_curve\n",
    "from sklearn.tree import plot_tree\n"
   ]
  },
  {
   "cell_type": "markdown",
   "id": "907c52a2",
   "metadata": {},
   "source": [
    "For saving models"
   ]
  },
  {
   "cell_type": "code",
   "execution_count": null,
   "id": "84a249df",
   "metadata": {},
   "outputs": [],
   "source": [
    "import pickle\n",
    "\n"
   ]
  },
  {
   "cell_type": "markdown",
   "id": "4dae0f24",
   "metadata": {},
   "source": [
    "Load dataset"
   ]
  },
  {
   "cell_type": "markdown",
   "id": "bc2d875b",
   "metadata": {},
   "source": [
    "Load dataset into a dataframe"
   ]
  },
  {
   "cell_type": "code",
   "execution_count": null,
   "id": "b022fd5f",
   "metadata": {},
   "outputs": [],
   "source": [
    "\n",
    "df0 = pd.read_csv(\"HR_capstone_dataset.csv\")\n"
   ]
  },
  {
   "cell_type": "markdown",
   "id": "055b3d64",
   "metadata": {},
   "source": [
    "Display first few rows of the dataframe"
   ]
  },
  {
   "cell_type": "code",
   "execution_count": null,
   "id": "2be8d37e",
   "metadata": {},
   "outputs": [],
   "source": [
    "\n",
    "df0.head()\n",
    "\n"
   ]
  },
  {
   "cell_type": "markdown",
   "id": "e686592f",
   "metadata": {},
   "source": [
    "Gather basic information about the data"
   ]
  },
  {
   "cell_type": "code",
   "execution_count": null,
   "id": "aacfc7b2",
   "metadata": {},
   "outputs": [],
   "source": [
    "\n",
    "df0.info()\n",
    "df0.describe()\n"
   ]
  },
  {
   "cell_type": "markdown",
   "id": "d0b460c4",
   "metadata": {},
   "source": [
    "Display all column names"
   ]
  },
  {
   "cell_type": "code",
   "execution_count": null,
   "id": "475dff24",
   "metadata": {},
   "outputs": [],
   "source": [
    "df0.columns\n"
   ]
  },
  {
   "cell_type": "markdown",
   "id": "d4937c47",
   "metadata": {},
   "source": [
    "Rename columns as needed"
   ]
  },
  {
   "cell_type": "code",
   "execution_count": null,
   "id": "fb7f6263",
   "metadata": {},
   "outputs": [],
   "source": [
    "\n",
    "df0 = df0.rename(columns={'Work_accident': 'work_accident',\n",
    "                          'average_montly_hours': 'average_monthly_hours',\n",
    "                          'time_spend_company': 'tenure',\n",
    "                          'Department': 'department'})\n",
    "\n",
    "df0.columns\n",
    "\n"
   ]
  },
  {
   "cell_type": "markdown",
   "id": "672468cb",
   "metadata": {},
   "source": [
    "Check missing values"
   ]
  },
  {
   "cell_type": "code",
   "execution_count": null,
   "id": "7389915b",
   "metadata": {},
   "outputs": [],
   "source": [
    "\n",
    "df0.isna().sum()\n"
   ]
  },
  {
   "cell_type": "markdown",
   "id": "8dbba4a6",
   "metadata": {},
   "source": [
    "Check for duplicates"
   ]
  },
  {
   "cell_type": "code",
   "execution_count": null,
   "id": "e3670be0",
   "metadata": {},
   "outputs": [],
   "source": [
    "df0.duplicated().sum()\n"
   ]
  },
  {
   "cell_type": "markdown",
   "id": "d0f733bc",
   "metadata": {},
   "source": [
    "3,008 rows contain duplicates. That is 20% of the data."
   ]
  },
  {
   "cell_type": "markdown",
   "id": "6137e86f",
   "metadata": {},
   "source": [
    "Inspect some rows containing duplicates as needed"
   ]
  },
  {
   "cell_type": "code",
   "execution_count": null,
   "id": "1a560402",
   "metadata": {},
   "outputs": [],
   "source": [
    "\n",
    "df0[df0.duplicated()].head()\n",
    "\n"
   ]
  },
  {
   "cell_type": "markdown",
   "id": "690d266c",
   "metadata": {},
   "source": [
    "Drop duplicates and save resulting dataframe in a new variable as needed"
   ]
  },
  {
   "cell_type": "code",
   "execution_count": null,
   "id": "04d24bc3",
   "metadata": {},
   "outputs": [],
   "source": [
    "\n",
    "df1 = df0.drop_duplicates(keep='first')\n"
   ]
  },
  {
   "cell_type": "markdown",
   "id": "afbf8d4a",
   "metadata": {},
   "source": [
    "Display first few rows of new dataframe as needed"
   ]
  },
  {
   "cell_type": "code",
   "execution_count": null,
   "id": "cdbede98",
   "metadata": {},
   "outputs": [],
   "source": [
    "df1.head()\n",
    "\n"
   ]
  },
  {
   "cell_type": "markdown",
   "id": "b22953ba",
   "metadata": {},
   "source": [
    "Check outliers"
   ]
  },
  {
   "cell_type": "markdown",
   "id": "6527af2f",
   "metadata": {},
   "source": [
    "Create a boxplot to visualize distribution of `tenure` and detect any outliers"
   ]
  },
  {
   "cell_type": "code",
   "execution_count": null,
   "id": "0ec9d1df",
   "metadata": {},
   "outputs": [],
   "source": [
    "plt.figure(figsize=(6,6))\n",
    "plt.title('Boxplot to detect outliers for tenure', fontsize=12)\n",
    "plt.xticks(fontsize=12)\n",
    "plt.yticks(fontsize=12)\n",
    "sns.boxplot(x=df1['tenure'])\n",
    " \n"
   ]
  },
  {
   "cell_type": "markdown",
   "id": "2463a341",
   "metadata": {},
   "source": [
    "The boxplot above shows that there are outliers in the `tenure` variable."
   ]
  },
  {
   "cell_type": "markdown",
   "id": "9cb5b090",
   "metadata": {},
   "source": [
    "Determine the number of rows containing outliers"
   ]
  },
  {
   "cell_type": "markdown",
   "id": "08648e12",
   "metadata": {},
   "source": [
    "Compute the 25th percentile value in `tenure`"
   ]
  },
  {
   "cell_type": "code",
   "execution_count": null,
   "id": "f3001eb9",
   "metadata": {},
   "outputs": [],
   "source": [
    "percentile25 = df1['tenure'].quantile(0.25)\n"
   ]
  },
  {
   "cell_type": "markdown",
   "id": "63529e9d",
   "metadata": {},
   "source": [
    "Compute the 75th percentile value in `tenure`"
   ]
  },
  {
   "cell_type": "code",
   "execution_count": null,
   "id": "60d6fb62",
   "metadata": {},
   "outputs": [],
   "source": [
    "percentile75 = df1['tenure'].quantile(0.75)\n"
   ]
  },
  {
   "cell_type": "markdown",
   "id": "d03e1150",
   "metadata": {},
   "source": [
    "Compute the interquartile range in `tenure`"
   ]
  },
  {
   "cell_type": "code",
   "execution_count": null,
   "id": "d09bddca",
   "metadata": {},
   "outputs": [],
   "source": [
    "iqr = percentile75 - percentile25\n"
   ]
  },
  {
   "cell_type": "markdown",
   "id": "f9975ed1",
   "metadata": {},
   "source": [
    "Define the upper limit and lower limit for non-outlier values in `tenure`"
   ]
  },
  {
   "cell_type": "code",
   "execution_count": null,
   "id": "73b3543f",
   "metadata": {},
   "outputs": [],
   "source": [
    "upper_limit = percentile75 + 1.5 * iqr\n",
    "lower_limit = percentile25 - 1.5 * iqr\n",
    "print(\"Lower limit:\", lower_limit)\n",
    "print(\"Upper limit:\", upper_limit)\n"
   ]
  },
  {
   "cell_type": "markdown",
   "id": "c2c0dda2",
   "metadata": {},
   "source": [
    "Identify subset of data containing outliers in `tenure`"
   ]
  },
  {
   "cell_type": "code",
   "execution_count": null,
   "id": "bbc79a8d",
   "metadata": {},
   "outputs": [],
   "source": [
    "outliers = df1[(df1['tenure'] > upper_limit) | (df1['tenure'] < lower_limit)]\n"
   ]
  },
  {
   "cell_type": "markdown",
   "id": "7bec4634",
   "metadata": {},
   "source": [
    "Count how many rows in the data contain outliers in `tenure`"
   ]
  },
  {
   "cell_type": "code",
   "execution_count": null,
   "id": "bf64bf70",
   "metadata": {},
   "outputs": [],
   "source": [
    "print(\"Number of rows in the data containing outliers in `tenure`:\", len(outliers))\n"
   ]
  },
  {
   "cell_type": "markdown",
   "id": "0679ecd8",
   "metadata": {},
   "source": [
    "Get numbers of people who left vs. stayed"
   ]
  },
  {
   "cell_type": "code",
   "execution_count": null,
   "id": "460e01e2",
   "metadata": {},
   "outputs": [],
   "source": [
    "\n",
    "print(df1['left'].value_counts())\n",
    "print()\n"
   ]
  },
  {
   "cell_type": "markdown",
   "id": "ea6fa19c",
   "metadata": {},
   "source": [
    "Get percentages of people who left vs. stayed"
   ]
  },
  {
   "cell_type": "code",
   "execution_count": null,
   "id": "848f1961",
   "metadata": {},
   "outputs": [],
   "source": [
    "\n",
    "print(df1['left'].value_counts(normalize=True))\n",
    "\n"
   ]
  },
  {
   "cell_type": "markdown",
   "id": "e5839698",
   "metadata": {},
   "source": [
    "Create a plot as needed"
   ]
  },
  {
   "cell_type": "markdown",
   "id": "8bedd852",
   "metadata": {},
   "source": [
    "Set figure and axes"
   ]
  },
  {
   "cell_type": "code",
   "execution_count": null,
   "id": "59bc5ef5",
   "metadata": {},
   "outputs": [],
   "source": [
    "fig, ax = plt.subplots(1, 2, figsize = (22,8))\n"
   ]
  },
  {
   "cell_type": "markdown",
   "id": "aa26a26d",
   "metadata": {},
   "source": [
    "Create boxplot showing `average_monthly_hours` distributions for `number_project`, comparing employees who stayed versus those who left"
   ]
  },
  {
   "cell_type": "code",
   "execution_count": null,
   "id": "8eb3368c",
   "metadata": {},
   "outputs": [],
   "source": [
    "sns.boxplot(data=df1, x='average_monthly_hours', y='number_project', hue='left', orient=\"h\", ax=ax[0])\n",
    "ax[0].invert_yaxis()\n",
    "ax[0].set_title('Monthly hours by number of projects', fontsize='14')\n"
   ]
  },
  {
   "cell_type": "markdown",
   "id": "56293bc3",
   "metadata": {},
   "source": [
    "Create histogram showing distribution of `number_project`, comparing employees who stayed versus those who left"
   ]
  },
  {
   "cell_type": "code",
   "execution_count": null,
   "id": "736870f0",
   "metadata": {},
   "outputs": [],
   "source": [
    "tenure_stay = df1[df1['left']==0]['number_project']\n",
    "tenure_left = df1[df1['left']==1]['number_project']\n",
    "sns.histplot(data=df1, x='number_project', hue='left', multiple='dodge', shrink=2, ax=ax[1])\n",
    "ax[1].set_title('Number of projects histogram', fontsize='14')\n"
   ]
  },
  {
   "cell_type": "markdown",
   "id": "cf9066cc",
   "metadata": {},
   "source": [
    "Display the plots"
   ]
  },
  {
   "cell_type": "code",
   "execution_count": null,
   "id": "418b8927",
   "metadata": {},
   "outputs": [],
   "source": [
    "plt.show()\n"
   ]
  },
  {
   "cell_type": "markdown",
   "id": "d95ba2bf",
   "metadata": {},
   "source": [
    "Get value counts of stayed/left for employees with 7 projects"
   ]
  },
  {
   "cell_type": "code",
   "execution_count": null,
   "id": "d106e479",
   "metadata": {},
   "outputs": [],
   "source": [
    "df1[df1['number_project']==7]['left'].value_counts()\n",
    "\n"
   ]
  },
  {
   "cell_type": "markdown",
   "id": "ea19200c",
   "metadata": {},
   "source": [
    "Create a plot as needed"
   ]
  },
  {
   "cell_type": "markdown",
   "id": "7fa98b05",
   "metadata": {},
   "source": [
    "Create scatterplot of `average_monthly_hours` versus `satisfaction_level`, comparing employees who stayed versus those who left"
   ]
  },
  {
   "cell_type": "markdown",
   "id": "83d515a5",
   "metadata": {},
   "source": [
    "Create a plot as needed"
   ]
  },
  {
   "cell_type": "markdown",
   "id": "ba65d170",
   "metadata": {},
   "source": [
    "Set figure and axes"
   ]
  },
  {
   "cell_type": "code",
   "execution_count": null,
   "id": "99f61584",
   "metadata": {},
   "outputs": [],
   "source": [
    "fig, ax = plt.subplots(1, 2, figsize = (22,8))\n"
   ]
  },
  {
   "cell_type": "markdown",
   "id": "3b36ec0e",
   "metadata": {},
   "source": [
    "Create boxplot showing distributions of `satisfaction_level` by tenure, comparing employees who stayed versus those who left"
   ]
  },
  {
   "cell_type": "code",
   "execution_count": null,
   "id": "82d8ec4c",
   "metadata": {},
   "outputs": [],
   "source": [
    "sns.boxplot(data=df1, x='satisfaction_level', y='tenure', hue='left', orient=\"h\", ax=ax[0])\n",
    "ax[0].invert_yaxis()\n",
    "ax[0].set_title('Satisfaction by tenure', fontsize='14')\n"
   ]
  },
  {
   "cell_type": "markdown",
   "id": "84a85d41",
   "metadata": {},
   "source": [
    "Create histogram showing distribution of `tenure`, comparing employees who stayed versus those who left"
   ]
  },
  {
   "cell_type": "code",
   "execution_count": null,
   "id": "afd81ed7",
   "metadata": {},
   "outputs": [],
   "source": [
    "tenure_stay = df1[df1['left']==0]['tenure']\n",
    "tenure_left = df1[df1['left']==1]['tenure']\n",
    "sns.histplot(data=df1, x='tenure', hue='left', multiple='dodge', shrink=5, ax=ax[1])\n",
    "ax[1].set_title('Tenure histogram', fontsize='14')\n",
    "\n",
    "plt.show();\n"
   ]
  },
  {
   "cell_type": "markdown",
   "id": "b25f5403",
   "metadata": {},
   "source": [
    "Calculate mean and median satisfaction scores of employees who left and those who stayed"
   ]
  },
  {
   "cell_type": "code",
   "execution_count": null,
   "id": "227bfafa",
   "metadata": {},
   "outputs": [],
   "source": [
    "df1.groupby(['left'])['satisfaction_level'].agg([np.mean,np.median])\n"
   ]
  },
  {
   "cell_type": "markdown",
   "id": "3eee88ec",
   "metadata": {},
   "source": [
    "Create a plot as needed"
   ]
  },
  {
   "cell_type": "markdown",
   "id": "2d70cb34",
   "metadata": {},
   "source": [
    "Set figure and axes"
   ]
  },
  {
   "cell_type": "code",
   "execution_count": null,
   "id": "46cc03bc",
   "metadata": {},
   "outputs": [],
   "source": [
    "fig, ax = plt.subplots(1, 2, figsize = (22,8))\n"
   ]
  },
  {
   "cell_type": "markdown",
   "id": "508cc0ef",
   "metadata": {},
   "source": [
    "Define short-tenured employees"
   ]
  },
  {
   "cell_type": "code",
   "execution_count": null,
   "id": "160896db",
   "metadata": {},
   "outputs": [],
   "source": [
    "tenure_short = df1[df1['tenure'] < 7]\n"
   ]
  },
  {
   "cell_type": "markdown",
   "id": "3fe0f5a3",
   "metadata": {},
   "source": [
    "Define long-tenured employees"
   ]
  },
  {
   "cell_type": "code",
   "execution_count": null,
   "id": "e621526b",
   "metadata": {},
   "outputs": [],
   "source": [
    "tenure_long = df1[df1['tenure'] > 6]\n"
   ]
  },
  {
   "cell_type": "markdown",
   "id": "26c4130f",
   "metadata": {},
   "source": [
    "Plot short-tenured histogram"
   ]
  },
  {
   "cell_type": "code",
   "execution_count": null,
   "id": "763b6825",
   "metadata": {},
   "outputs": [],
   "source": [
    "sns.histplot(data=tenure_short, x='tenure', hue='salary', discrete=1, \n",
    "             hue_order=['low', 'medium', 'high'], multiple='dodge', shrink=.5, ax=ax[0])\n",
    "ax[0].set_title('Salary histogram by tenure: short-tenured people', fontsize='14')\n"
   ]
  },
  {
   "cell_type": "markdown",
   "id": "a8d284d8",
   "metadata": {},
   "source": [
    "Plot long-tenured histogram"
   ]
  },
  {
   "cell_type": "code",
   "execution_count": null,
   "id": "aff0450d",
   "metadata": {},
   "outputs": [],
   "source": [
    "sns.histplot(data=tenure_long, x='tenure', hue='salary', discrete=1, \n",
    "             hue_order=['low', 'medium', 'high'], multiple='dodge', shrink=.4, ax=ax[1])\n",
    "ax[1].set_title('Salary histogram by tenure: long-tenured people', fontsize='14');\n",
    "\n"
   ]
  },
  {
   "cell_type": "markdown",
   "id": "0efc1d9c",
   "metadata": {},
   "source": [
    "The plots above show that long-tenured employees were not disproportionately comprised of higher-paid employees."
   ]
  },
  {
   "cell_type": "markdown",
   "id": "8d6387d3",
   "metadata": {},
   "source": [
    "Create scatterplot of `average_monthly_hours` versus `last_evaluation`"
   ]
  },
  {
   "cell_type": "markdown",
   "id": "5a7217fe",
   "metadata": {},
   "source": [
    "Create a plot as needed\n",
    "Create plot to examine relationship between `average_monthly_hours` and `promotion_last_5years`"
   ]
  },
  {
   "cell_type": "markdown",
   "id": "b7c30091",
   "metadata": {},
   "source": [
    "Display counts for each department"
   ]
  },
  {
   "cell_type": "code",
   "execution_count": null,
   "id": "36dddc7b",
   "metadata": {},
   "outputs": [],
   "source": [
    "df1[\"department\"].value_counts()\n"
   ]
  },
  {
   "cell_type": "markdown",
   "id": "0b737796",
   "metadata": {},
   "source": [
    "Create a plot as needed\n",
    "Create stacked histogram to compare department distribution of employees who left to that of employees who didn't"
   ]
  },
  {
   "cell_type": "code",
   "execution_count": null,
   "id": "71deba5d",
   "metadata": {},
   "outputs": [],
   "source": [
    "plt.figure(figsize=(11,8))\n",
    "sns.histplot(data=df1, x='department', hue='left', discrete=1, \n",
    "             hue_order=[0, 1], multiple='dodge', shrink=.5)\n",
    "plt.xticks(rotation='45')\n",
    "plt.title('Counts of stayed/left by department', fontsize=14);\n",
    "\n"
   ]
  },
  {
   "cell_type": "markdown",
   "id": "2a459cb6",
   "metadata": {},
   "source": [
    "There doesn't seem to be any department that differs significantly in its proportion of employees who left to those who stayed."
   ]
  },
  {
   "cell_type": "markdown",
   "id": "6c643aeb",
   "metadata": {},
   "source": [
    "Create a plot as needed"
   ]
  },
  {
   "cell_type": "markdown",
   "id": "a2f0d8e4",
   "metadata": {},
   "source": [
    "Plot a correlation heatmap"
   ]
  },
  {
   "cell_type": "code",
   "execution_count": null,
   "id": "07c438c8",
   "metadata": {},
   "outputs": [],
   "source": [
    "plt.figure(figsize=(16, 9))\n",
    "heatmap = sns.heatmap(df0.corr(), vmin=-1, vmax=1, annot=True, cmap=sns.color_palette(\"vlag\", as_cmap=True))\n",
    "heatmap.set_title('Correlation Heatmap', fontdict={'fontsize':14}, pad=12);\n",
    "\n"
   ]
  },
  {
   "cell_type": "markdown",
   "id": "31176932",
   "metadata": {},
   "source": [
    "The correlation heatmap confirms that the number of projects, monthly hours, and evaluation scores all have some positive correlation with each other, and whether an employee leaves is negatively correlated with their satisfaction level."
   ]
  },
  {
   "cell_type": "markdown",
   "id": "a3944266",
   "metadata": {},
   "source": [
    "Step 3. Model Building, Step 4. Results and Evaluation\n",
    "- Fit a model that predicts the outcome variable using two or more independent variables\n",
    "- Check model assumptions\n",
    "- Evaluate the model"
   ]
  },
  {
   "cell_type": "markdown",
   "id": "46cd2dd8",
   "metadata": {},
   "source": [
    "Identify the type of prediction task."
   ]
  },
  {
   "cell_type": "markdown",
   "id": "9743c1d2",
   "metadata": {},
   "source": [
    "Modeling Approach : Logistic Regression Model"
   ]
  },
  {
   "cell_type": "markdown",
   "id": "9ee41409",
   "metadata": {},
   "source": [
    "Copy the dataframe"
   ]
  },
  {
   "cell_type": "code",
   "execution_count": null,
   "id": "4cb89687",
   "metadata": {},
   "outputs": [],
   "source": [
    "df_enc = df1.copy()\n"
   ]
  },
  {
   "cell_type": "markdown",
   "id": "e8826c95",
   "metadata": {},
   "source": [
    "Encode the `salary` column as an ordinal numeric category"
   ]
  },
  {
   "cell_type": "code",
   "execution_count": null,
   "id": "7c4c7385",
   "metadata": {},
   "outputs": [],
   "source": [
    "df_enc['salary'] = (\n",
    "    df_enc['salary'].astype('category')\n",
    "    .cat.set_categories(['low', 'medium', 'high'])\n",
    "    .cat.codes\n",
    ")\n"
   ]
  },
  {
   "cell_type": "markdown",
   "id": "1e5ba55c",
   "metadata": {},
   "source": [
    "Dummy encode the `department` column"
   ]
  },
  {
   "cell_type": "code",
   "execution_count": null,
   "id": "0a7536e8",
   "metadata": {},
   "outputs": [],
   "source": [
    "df_enc = pd.get_dummies(df_enc, drop_first=False)\n"
   ]
  },
  {
   "cell_type": "markdown",
   "id": "492c0745",
   "metadata": {},
   "source": [
    "Display the new dataframe"
   ]
  },
  {
   "cell_type": "code",
   "execution_count": null,
   "id": "19be2602",
   "metadata": {},
   "outputs": [],
   "source": [
    "df_enc.head()\n",
    "\n"
   ]
  },
  {
   "cell_type": "markdown",
   "id": "a65b404d",
   "metadata": {},
   "source": [
    "Create a heatmap to visualize how correlated variables are"
   ]
  },
  {
   "cell_type": "code",
   "execution_count": null,
   "id": "6f5f2d85",
   "metadata": {},
   "outputs": [],
   "source": [
    "plt.figure(figsize=(8, 6))\n",
    "sns.heatmap(df_enc[['satisfaction_level', 'last_evaluation', 'number_project', 'average_monthly_hours', 'tenure']]\n",
    "            .corr(), annot=True, cmap=\"crest\")\n",
    "plt.title('Heatmap of the dataset')\n",
    "plt.show()\n",
    "\n",
    "\n"
   ]
  },
  {
   "cell_type": "markdown",
   "id": "3d96daeb",
   "metadata": {},
   "source": [
    "Create a stacked bart plot to visualize number of employees across department, comparing those who left with those who didn't\n",
    "In the legend, 0 (purple color) represents employees who did not leave, 1 (red color) represents employees who left"
   ]
  },
  {
   "cell_type": "markdown",
   "id": "ffd5441a",
   "metadata": {},
   "source": [
    "Since logistic regression is quite sensitive to outliers, it would be a good idea at this stage to remove the outliers in the `tenure` column that were identified earlier."
   ]
  },
  {
   "cell_type": "markdown",
   "id": "ddf529df",
   "metadata": {},
   "source": [
    "Select rows without outliers in `tenure` and save resulting dataframe in a new variable"
   ]
  },
  {
   "cell_type": "code",
   "execution_count": null,
   "id": "e9b236fe",
   "metadata": {},
   "outputs": [],
   "source": [
    "df_logreg = df_enc[(df_enc['tenure'] >= lower_limit) & (df_enc['tenure'] <= upper_limit)]\n"
   ]
  },
  {
   "cell_type": "markdown",
   "id": "0551d87d",
   "metadata": {},
   "source": [
    "Display first few rows of new dataframe"
   ]
  },
  {
   "cell_type": "code",
   "execution_count": null,
   "id": "d28839f3",
   "metadata": {},
   "outputs": [],
   "source": [
    "df_logreg.head()\n",
    "\n"
   ]
  },
  {
   "cell_type": "markdown",
   "id": "bff6c2bd",
   "metadata": {},
   "source": [
    "Isolate the outcome variable"
   ]
  },
  {
   "cell_type": "code",
   "execution_count": null,
   "id": "f1870e90",
   "metadata": {},
   "outputs": [],
   "source": [
    "y = df_logreg['left']\n"
   ]
  },
  {
   "cell_type": "markdown",
   "id": "d2d4995d",
   "metadata": {},
   "source": [
    "Display first few rows of the outcome variable"
   ]
  },
  {
   "cell_type": "code",
   "execution_count": null,
   "id": "b7f469d6",
   "metadata": {},
   "outputs": [],
   "source": [
    "y.head() \n",
    "\n"
   ]
  },
  {
   "cell_type": "markdown",
   "id": "771db35d",
   "metadata": {},
   "source": [
    "Select the features you want to use in your model"
   ]
  },
  {
   "cell_type": "code",
   "execution_count": null,
   "id": "5d73cfd0",
   "metadata": {},
   "outputs": [],
   "source": [
    "X = df_logreg.drop('left', axis=1)\n"
   ]
  },
  {
   "cell_type": "markdown",
   "id": "caad77cd",
   "metadata": {},
   "source": [
    "Display the first few rows of the selected features"
   ]
  },
  {
   "cell_type": "code",
   "execution_count": null,
   "id": "a496196c",
   "metadata": {},
   "outputs": [],
   "source": [
    "X.head()\n",
    "\n",
    "\n"
   ]
  },
  {
   "cell_type": "markdown",
   "id": "11330b1f",
   "metadata": {},
   "source": [
    "Split the data into training set and testing set"
   ]
  },
  {
   "cell_type": "code",
   "execution_count": null,
   "id": "b9d74ffb",
   "metadata": {},
   "outputs": [],
   "source": [
    "X_train, X_test, y_train, y_test = train_test_split(X, y, test_size=0.25, stratify=y, random_state=42)\n",
    "\n"
   ]
  },
  {
   "cell_type": "markdown",
   "id": "d66d352b",
   "metadata": {},
   "source": [
    "Construct a logistic regression model and fit it to the training dataset"
   ]
  },
  {
   "cell_type": "code",
   "execution_count": null,
   "id": "bb3181e8",
   "metadata": {},
   "outputs": [],
   "source": [
    "log_clf = LogisticRegression(random_state=42, max_iter=500).fit(X_train, y_train)\n",
    "\n",
    "\n"
   ]
  },
  {
   "cell_type": "markdown",
   "id": "8a64c4ac",
   "metadata": {},
   "source": [
    "Use the logistic regression model to get predictions on the test set"
   ]
  },
  {
   "cell_type": "code",
   "execution_count": null,
   "id": "6b48ad07",
   "metadata": {},
   "outputs": [],
   "source": [
    "y_pred = log_clf.predict(X_test)\n",
    "\n"
   ]
  },
  {
   "cell_type": "markdown",
   "id": "8ad83613",
   "metadata": {},
   "source": [
    "Create a confusion matrix to visualize the results of the logistic regression model."
   ]
  },
  {
   "cell_type": "markdown",
   "id": "cba50679",
   "metadata": {},
   "source": [
    "Compute values for confusion matrix"
   ]
  },
  {
   "cell_type": "markdown",
   "id": "3baccb66",
   "metadata": {},
   "source": [
    "Create display of confusion matrix"
   ]
  },
  {
   "cell_type": "markdown",
   "id": "5e419dfd",
   "metadata": {},
   "source": [
    "Plot confusion matrix"
   ]
  },
  {
   "cell_type": "code",
   "execution_count": null,
   "id": "18d68fcd",
   "metadata": {},
   "outputs": [],
   "source": [
    "log_disp.plot(values_format='')\n"
   ]
  },
  {
   "cell_type": "markdown",
   "id": "11370244",
   "metadata": {},
   "source": [
    "Display plot"
   ]
  },
  {
   "cell_type": "code",
   "execution_count": null,
   "id": "87b1ff44",
   "metadata": {},
   "outputs": [],
   "source": [
    "plt.show()\n",
    "\n"
   ]
  },
  {
   "cell_type": "markdown",
   "id": "471d357a",
   "metadata": {},
   "source": [
    "True negatives: The number of people who did not leave that the model accurately predicted did not leave.\n",
    "\n",
    "False positives: The number of people who did not leave the model inaccurately predicted as leaving.\n",
    "\n",
    "False negatives: The number of people who left that the model inaccurately predicted did not leave\n",
    "\n",
    "True positives: The number of people who left the model accurately predicted as leaving"
   ]
  },
  {
   "cell_type": "code",
   "execution_count": null,
   "id": "8f38bd39",
   "metadata": {},
   "outputs": [],
   "source": [
    "\n",
    "\n",
    "df_logreg['left'].value_counts(normalize=True)\n",
    "\n"
   ]
  },
  {
   "cell_type": "markdown",
   "id": "d27ec389",
   "metadata": {},
   "source": [
    "There is an approximately 83%-17% split. So the data is not perfectly balanced, but it is not too imbalanced. If it was more severely imbalanced, you might want to resample the data to make it more balanced. In this case, you can use this data without modifying the class balance and continue evaluating the model."
   ]
  },
  {
   "cell_type": "markdown",
   "id": "234424f7",
   "metadata": {},
   "source": [
    "Create classification report for logistic regression model"
   ]
  },
  {
   "cell_type": "code",
   "execution_count": null,
   "id": "3c585aaa",
   "metadata": {},
   "outputs": [],
   "source": [
    "target_names = ['Predicted would not leave', 'Predicted would leave']\n",
    "print(classification_report(y_test, y_pred, target_names=target_names))\n",
    "\n",
    "\n",
    "\n",
    "    table = pd.DataFrame({'model': [model_name],\n",
    "                          'precision': [precision], \n",
    "                          'recall': [recall],\n",
    "                          'f1': [f1],\n",
    "                          'accuracy': [accuracy],\n",
    "                          'AUC': [auc]\n",
    "                         })\n",
    "  \n",
    "    return table\n",
    "\n",
    "\n"
   ]
  },
  {
   "cell_type": "markdown",
   "id": "b984f7fe",
   "metadata": {},
   "source": [
    "For another project, you could try building a K-means model on this data and analyzing the clusters. This may yield valuable insight."
   ]
  },
  {
   "cell_type": "markdown",
   "id": "bf36443a",
   "metadata": {},
   "source": [
    "## 📊 Attrition Distribution"
   ]
  },
  {
   "cell_type": "markdown",
   "id": "73cea00a",
   "metadata": {},
   "source": [
    "## 🔥 Correlation Heatmap"
   ]
  },
  {
   "cell_type": "code",
   "execution_count": null,
   "id": "b2977085",
   "metadata": {},
   "outputs": [],
   "source": [
    "\n",
    "plt.figure(figsize=(10, 8))\n",
    "sns.heatmap(df1.corr(), annot=True, cmap='coolwarm', fmt=\".2f\")\n",
    "plt.title('Feature Correlation Heatmap')\n",
    "plt.show()\n"
   ]
  },
  {
   "cell_type": "markdown",
   "id": "f2dda1ee",
   "metadata": {},
   "source": [
    "## 📦 Boxplot of Satisfaction Level by Attrition"
   ]
  },
  {
   "cell_type": "markdown",
   "id": "514eeadf",
   "metadata": {},
   "source": [
    "## 📈 ROC Curve for Logistic Regression"
   ]
  }
 ],
 "metadata": {},
 "nbformat": 4,
 "nbformat_minor": 5
}

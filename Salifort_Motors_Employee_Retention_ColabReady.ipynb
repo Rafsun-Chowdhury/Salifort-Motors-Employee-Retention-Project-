{
 "cells": [
  {
   "cell_type": "markdown",
   "id": "d0f4ba9c",
   "metadata": {},
   "source": [
    "\n",
    "# 🏢 Salifort Motors: Employee Retention Analysis\n",
    "\n",
    "This notebook analyzes employee attrition at Salifort Motors using logistic regression to identify key drivers of turnover. It includes data cleaning, feature encoding, model training, and evaluation.\n"
   ]
  },
  {
   "cell_type": "markdown",
   "id": "de1e3b55",
   "metadata": {},
   "source": [
    "## 📂 Load Dataset (Colab Compatible)"
   ]
  },
  {
   "cell_type": "code",
   "execution_count": null,
   "id": "298f3e5f",
   "metadata": {},
   "outputs": [],
   "source": [
    "\n",
    "import os\n",
    "import pandas as pd\n",
    "import numpy as np\n",
    "import matplotlib.pyplot as plt\n",
    "import seaborn as sns\n",
    "\n",
    "from sklearn.model_selection import train_test_split\n",
    "from sklearn.linear_model import LogisticRegression\n",
    "from sklearn.preprocessing import LabelEncoder\n",
    "from sklearn.metrics import classification_report, confusion_matrix, ConfusionMatrixDisplay\n",
    "\n",
    "import warnings\n",
    "warnings.filterwarnings('ignore')\n",
    "\n",
    "# Download CSV if running in Colab\n",
    "if \"google.colab\" in str(get_ipython()):\n",
    "    !wget https://raw.githubusercontent.com/YourUsername/YourRepoName/main/HR_capstone_dataset.csv\n",
    "\n",
    "# Load dataset\n",
    "df = pd.read_csv(\"HR_capstone_dataset.csv\")\n",
    "df.head()\n"
   ]
  },
  {
   "cell_type": "markdown",
   "id": "70e955a0",
   "metadata": {},
   "source": [
    "## 🧹 Data Cleaning & Encoding"
   ]
  },
  {
   "cell_type": "code",
   "execution_count": null,
   "id": "20c079ce",
   "metadata": {},
   "outputs": [],
   "source": [
    "\n",
    "df = df.rename(columns={\n",
    "    'Work_accident': 'work_accident',\n",
    "    'average_montly_hours': 'average_monthly_hours',\n",
    "    'time_spend_company': 'tenure',\n",
    "    'Department': 'department'\n",
    "})\n",
    "df = df.drop_duplicates()\n",
    "le = LabelEncoder()\n",
    "df['salary'] = le.fit_transform(df['salary'])\n",
    "df = pd.get_dummies(df, columns=['department'], drop_first=True)\n",
    "df.head()\n"
   ]
  },
  {
   "cell_type": "markdown",
   "id": "5f76c713",
   "metadata": {},
   "source": [
    "## ✂️ Train-Test Split"
   ]
  },
  {
   "cell_type": "code",
   "execution_count": null,
   "id": "2ab9e6f6",
   "metadata": {},
   "outputs": [],
   "source": [
    "\n",
    "X = df.drop('left', axis=1)\n",
    "y = df['left']\n",
    "X_train, X_test, y_train, y_test = train_test_split(X, y, test_size=0.2, stratify=y, random_state=42)\n"
   ]
  },
  {
   "cell_type": "markdown",
   "id": "847a2460",
   "metadata": {},
   "source": [
    "## 🤖 Train Logistic Regression Model"
   ]
  },
  {
   "cell_type": "code",
   "execution_count": null,
   "id": "0e6eabe4",
   "metadata": {},
   "outputs": [],
   "source": [
    "\n",
    "model = LogisticRegression(max_iter=500)\n",
    "model.fit(X_train, y_train)\n",
    "y_pred = model.predict(X_test)\n"
   ]
  },
  {
   "cell_type": "markdown",
   "id": "773a9cf0",
   "metadata": {},
   "source": [
    "## 📈 Model Evaluation"
   ]
  },
  {
   "cell_type": "code",
   "execution_count": null,
   "id": "80f16396",
   "metadata": {},
   "outputs": [],
   "source": [
    "\n",
    "print(\"Classification Report:\")\n",
    "print(classification_report(y_test, y_pred))\n",
    "\n",
    "cm = confusion_matrix(y_test, y_pred)\n",
    "disp = ConfusionMatrixDisplay(confusion_matrix=cm)\n",
    "disp.plot()\n",
    "plt.title(\"Confusion Matrix\")\n",
    "plt.show()\n"
   ]
  },
  {
   "cell_type": "markdown",
   "id": "cf805e2b",
   "metadata": {},
   "source": [
    "\n",
    "## ✅ Conclusion\n",
    "\n",
    "This analysis identifies key factors driving employee attrition at Salifort Motors. With logistic regression, we can predict attrition risk and provide HR teams with data-driven strategies for workforce retention.\n"
   ]
  }
 ],
 "metadata": {},
 "nbformat": 4,
 "nbformat_minor": 5
}
